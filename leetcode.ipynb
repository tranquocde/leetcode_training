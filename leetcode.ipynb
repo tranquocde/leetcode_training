{
 "cells": [
  {
   "attachments": {},
   "cell_type": "markdown",
   "metadata": {},
   "source": [
    "Given a string s, return the longest \n",
    "palindromic\n",
    " \n",
    "substring\n",
    " in s.\n",
    "\n",
    " \n",
    "\n",
    "Example 1:\n",
    "\n",
    "Input: s = \"babad\"\n",
    "Output: \"bab\"\n",
    "Explanation: \"aba\" is also a valid answer.\n",
    "Example 2:\n",
    "\n",
    "Input: s = \"cbbd\"\n",
    "Output: \"bb\"\n",
    " \n",
    "\n",
    "Constraints:\n",
    "\n",
    "1 <= s.length <= 1000\n",
    "s consist of only digits and English letters."
   ]
  },
  {
   "cell_type": "code",
   "execution_count": 16,
   "metadata": {},
   "outputs": [
    {
     "data": {
      "text/plain": [
       "41"
      ]
     },
     "execution_count": 16,
     "metadata": {},
     "output_type": "execute_result"
    }
   ],
   "source": [
    "len(\"babaddtattarrattatddetartrateedredividerb\")"
   ]
  },
  {
   "cell_type": "code",
   "execution_count": 1,
   "metadata": {},
   "outputs": [
    {
     "data": {
      "text/plain": [
       "'ddtattarrattatdd'"
      ]
     },
     "execution_count": 1,
     "metadata": {},
     "output_type": "execute_result"
    }
   ],
   "source": [
    "class Solution:\n",
    "    def longestPalindrome(self, s: str) -> str:\n",
    "        if len(s) == 1: return s\n",
    "        def check_sym(d:str):\n",
    "            return (d == d[::-1])\n",
    "        for i in range(len(s)):\n",
    "            if check_sym(s[i:]):\n",
    "                break\n",
    "        return max(self.longestPalindrome(s[:-1]) , s[i:] , key=len)\n",
    "        \n",
    "\n",
    "    \n",
    "\n",
    "sol = Solution()\n",
    "sol.longestPalindrome(s=\"babaddtattarrattatddetartrateedredividerb\")\n",
    "\n",
    "\n"
   ]
  },
  {
   "cell_type": "code",
   "execution_count": null,
   "metadata": {},
   "outputs": [],
   "source": [
    "import random\n",
    "lis = ['a','b','d','e','f','g','h']\n",
    "ans = []\n",
    "for i in range(10**4):\n",
    "    ans.append(random.choice(lis))\n",
    "string = ''\n",
    "for item in ans:\n",
    "    string += item\n",
    "sol.longestPalindrome(string)"
   ]
  },
  {
   "cell_type": "code",
   "execution_count": 23,
   "metadata": {},
   "outputs": [
    {
     "data": {
      "text/plain": [
       "[1, 2, 3, 5]"
      ]
     },
     "execution_count": 23,
     "metadata": {},
     "output_type": "execute_result"
    }
   ],
   "source": [
    "from typing import List\n",
    "class Solution:\n",
    "    def sortArray(self, nums: List[int]) -> List[int]:\n",
    "        l = 0\n",
    "        r = len(nums) - 1\n",
    "        mid = (l+r)//2\n",
    "        if len(nums) == 1: return nums\n",
    "        if l < r:\n",
    "            lis_1 = self.sortArray(nums[l:mid+1])\n",
    "            lis_2 = self.sortArray(nums[mid+1:r+1])\n",
    "            return self.merge(lis_1,lis_2)\n",
    "    def merge(self,lis_1,lis_2):\n",
    "        ans = []\n",
    "        i,j = 0,0\n",
    "        while i < len(lis_1) and j < len(lis_2):\n",
    "            if lis_1[i] < lis_2[j]:\n",
    "                ans.append(lis_1[i])\n",
    "                i+= 1\n",
    "            else:\n",
    "                ans.append(lis_2[j])\n",
    "                j+=1\n",
    "        while i < len(lis_1):\n",
    "            ans.append(lis_1[i])\n",
    "            i+=1\n",
    "        while j < len(lis_2):\n",
    "            ans.append(lis_2[j])\n",
    "            j+=1\n",
    "        return ans\n",
    "sol\n"
   ]
  },
  {
   "cell_type": "code",
   "execution_count": 21,
   "metadata": {},
   "outputs": [],
   "source": [
    "\n",
    "class Solution:\n",
    "    def compress(self, chars) -> int:\n",
    "        s = []\n",
    "        count = 0\n",
    "        for i in range(len(chars)+1):\n",
    "            if i == len(chars):\n",
    "                s.append(chars[i-1])\n",
    "                s.append(str(count))\n",
    "            elif i > 0  and chars[i] != chars[i-1]:\n",
    "                s.append(chars[i-1])\n",
    "                s.append(str(count))\n",
    "                count = 1\n",
    "            else:\n",
    "                count += 1\n",
    "        chars = ''.join(s)\n",
    "        return len(chars),chars\n",
    "sol = Solution()\n"
   ]
  },
  {
   "cell_type": "code",
   "execution_count": 22,
   "metadata": {},
   "outputs": [
    {
     "data": {
      "text/plain": [
       "(6, 'a2b2c3')"
      ]
     },
     "execution_count": 22,
     "metadata": {},
     "output_type": "execute_result"
    }
   ],
   "source": [
    "sol.compress(chars = [\"a\",\"a\",\"b\",\"b\",\"c\",\"c\",\"c\"])"
   ]
  },
  {
   "cell_type": "code",
   "execution_count": 40,
   "metadata": {},
   "outputs": [],
   "source": [
    "class Solution:\n",
    "    def compress(self, chars) -> int:\n",
    "        i = 0\n",
    "        res = 0\n",
    "        while i < len(chars):\n",
    "            group_length = 1\n",
    "            while (i + group_length < len(chars)\n",
    "                   and chars[i + group_length] == chars[i]):\n",
    "                group_length += 1\n",
    "            chars[res] = chars[i]\n",
    "            res += 1\n",
    "            if group_length > 1:\n",
    "                str_repr = str(group_length)\n",
    "                chars[res:res+len(str_repr)] = list(str_repr)\n",
    "                res += len(str_repr)\n",
    "            i += group_length\n",
    "        return res,chars"
   ]
  },
  {
   "cell_type": "code",
   "execution_count": 41,
   "metadata": {},
   "outputs": [
    {
     "data": {
      "text/plain": [
       "(6, ['a', '2', 'b', '2', 'c', '3', 'c'])"
      ]
     },
     "execution_count": 41,
     "metadata": {},
     "output_type": "execute_result"
    }
   ],
   "source": [
    "sol = Solution()\n",
    "sol.compress(chars = [\"a\",\"a\",\"b\",\"b\",\"c\",\"c\",\"c\"])\n"
   ]
  },
  {
   "attachments": {},
   "cell_type": "markdown",
   "metadata": {},
   "source": [
    "# 65 Jump game\n",
    "\n",
    "### You are given an integer array nums. You are initially positioned at the array's first index, and each element in the array represents your maximum jump length at that position.\n",
    "\n",
    "### Return true if you can reach the last index, or false otherwise.\n",
    "\n",
    " \n",
    "\n",
    "Example 1:\n",
    "\n",
    "Input: nums = [2,3,1,1,4]\n",
    "Output: true\n",
    "Explanation: Jump 1 step from index 0 to 1, then 3 steps to the last index.\n"
   ]
  },
  {
   "cell_type": "code",
   "execution_count": 79,
   "metadata": {},
   "outputs": [
    {
     "data": {
      "text/plain": [
       "True"
      ]
     },
     "execution_count": 79,
     "metadata": {},
     "output_type": "execute_result"
    }
   ],
   "source": [
    "# using Greedy\n",
    "class Solution:\n",
    "    def canJump(self,nums:list) -> bool:\n",
    "        curr_max = 0\n",
    "        for i in range(len(nums)):\n",
    "            if i > curr_max:\n",
    "                return False\n",
    "            else:\n",
    "                curr_max = nums[i] + i\n",
    "        return True\n",
    "\n",
    "sol = Solution()\n",
    "# sol.canJump(nums=[3,2,1,0,4])\n",
    "sol.canJump(nums=[1,2,3])\n"
   ]
  },
  {
   "cell_type": "code",
   "execution_count": 68,
   "metadata": {},
   "outputs": [],
   "source": [
    "# using DP\n",
    "class Solution:\n",
    "    def canJump(self, nums:list) -> bool:\n",
    "        n = len(nums)\n",
    "        dp = [False for i in range(n)]\n",
    "        dp[n-1] = True\n",
    "        #dp[i] returns True if we can reach the end from i-th point\n",
    "        for i in range(n-2,-1,-1):\n",
    "            steps = nums[i]\n",
    "            flag = False\n",
    "            for step in range(steps+1):\n",
    "                if dp[i+step] == True:\n",
    "                    flag = True\n",
    "                    break\n",
    "            dp[i] = flag\n",
    "        return dp[0]\n",
    "        "
   ]
  },
  {
   "cell_type": "code",
   "execution_count": 71,
   "metadata": {},
   "outputs": [
    {
     "data": {
      "text/plain": [
       "False"
      ]
     },
     "execution_count": 71,
     "metadata": {},
     "output_type": "execute_result"
    }
   ],
   "source": [
    "sol = Solution()\n",
    "sol.canJump(nums=[1,2,3])"
   ]
  },
  {
   "cell_type": "code",
   "execution_count": 52,
   "metadata": {},
   "outputs": [
    {
     "name": "stdout",
     "output_type": "stream",
     "text": [
      "0\n"
     ]
    }
   ],
   "source": [
    "x = [1,2,3,4,5]\n",
    "for i in range(1):\n",
    "    print(i)"
   ]
  },
  {
   "attachments": {},
   "cell_type": "markdown",
   "metadata": {},
   "source": [
    "### bai em mai"
   ]
  },
  {
   "cell_type": "code",
   "execution_count": 6,
   "metadata": {},
   "outputs": [
    {
     "data": {
      "text/plain": [
       "1"
      ]
     },
     "execution_count": 6,
     "metadata": {},
     "output_type": "execute_result"
    }
   ],
   "source": [
    "def average_sum(arr:list,avg):\n",
    "    convert_arr = [num - avg for num in arr]\n",
    "    return c_sum(convert_arr , 0)\n",
    "\n",
    "\n",
    "def c_sum(arr:list,c):\n",
    "    d = {}\n",
    "    return aux_c_sum(arr,c,d)\n",
    "\n",
    "def aux_c_sum(arr:list,c,d:dict):\n",
    "    \"\"\" tat ca cac bo chi so ung voi bo so co tong bang c\"\"\"\n",
    "    n = len(arr)\n",
    "    # tao bang qhd size n*(upper_bound - lower_bound)\n",
    "    lower_bound = 0\n",
    "    upper_bound = 0\n",
    "    for num in arr :\n",
    "        if num <0 :\n",
    "            lower_bound += num\n",
    "        else: upper_bound += num\n",
    "    if c < lower_bound or c > upper_bound : # nếu c không nằm trong đoạn này tức không có bộ nào thoả mãn\n",
    "        d[(n,c)] = 0 # luôn update biến nhớ sau khi tính xong kết quả\n",
    "        return d[(n,c)]\n",
    "    if n == 1:\n",
    "        for val in range(lower_bound , upper_bound + 1):\n",
    "            d[(n,val)] = 1 if arr[0] == val else 0 # update biến nhớ\n",
    "        return d[(n,c)]\n",
    "    if d.get((n,c)):\n",
    "        return d[(n,c)] # nếu (n,c) đã xuất hiện ở trong biến nhớ thì chỉ việc trả về kết quả đã có\n",
    "    else:\n",
    "        term_1 = aux_c_sum(arr[:-1],c,d)\n",
    "        term_2 = aux_c_sum(arr[:-1],c - arr[-1] ,d)\n",
    "        if arr[-1] == c :\n",
    "            d[(n,c)] = term_1 + term_2 + 1 # cộng 1 là do tính cả trường hợp phần tử cuối cùng bằng c\n",
    "        else:\n",
    "            d[(n,c)] = term_1+term_2 # trường hợp phần tử cuối khác c thì không cần cộng gì cả\n",
    "        return d[(n,c)]\n",
    "   \n",
    "average_sum(arr=[77,97,114,105,115,97],avg=100)"
   ]
  },
  {
   "cell_type": "code",
   "execution_count": 32,
   "metadata": {},
   "outputs": [],
   "source": [
    "class Solution:\n",
    "    def uniquePathsWithObstacles(self, obstacleGrid: list) -> int:\n",
    "        d = dict()\n",
    "        return self.aux_unique(obstacleGrid , d)\n",
    "    def aux_unique(self,obstacleGrid:list , d: dict):\n",
    "        m = len(obstacleGrid)-1 # number of rows\n",
    "        n = len(obstacleGrid[0])-1 # number of columns\n",
    "        if m == 0 or n == 0:\n",
    "            if any(obstacleGrid[i][j] == 1 for i in range(m+1) for j in range(n+1)):\n",
    "                d[(m,n)] = 0\n",
    "            else: \n",
    "                d[(m,n)] = 1\n",
    "            return d[(m,n)]\n",
    "        if (m,n) in d:\n",
    "            return d[(m,n)]\n",
    "        if obstacleGrid[m][n] == 1:\n",
    "            d[(m,n)] = 0\n",
    "            return d[(m,n)]\n",
    "        else:\n",
    "            d[(m,n)] = self.aux_unique(obstacleGrid[:m],d) + self.aux_unique([i[:n] for i in obstacleGrid[:]],d)\n",
    "            return d[(m,n)]\n",
    "        "
   ]
  },
  {
   "cell_type": "code",
   "execution_count": 33,
   "metadata": {},
   "outputs": [
    {
     "data": {
      "text/plain": [
       "2"
      ]
     },
     "execution_count": 33,
     "metadata": {},
     "output_type": "execute_result"
    }
   ],
   "source": [
    "obstacleGrid = [[0,0,0],[0,1,0],[0,0,0]]\n",
    "sol = Solution()\n",
    "sol.uniquePathsWithObstacles(obstacleGrid)"
   ]
  },
  {
   "cell_type": "code",
   "execution_count": 26,
   "metadata": {},
   "outputs": [
    {
     "data": {
      "text/plain": [
       "[[1, 2, 3], [2, 3, 4]]"
      ]
     },
     "execution_count": 26,
     "metadata": {},
     "output_type": "execute_result"
    }
   ],
   "source": [
    "x = [[1,2,3],[2,3,4]]\n",
    "x[:]"
   ]
  },
  {
   "attachments": {},
   "cell_type": "markdown",
   "metadata": {},
   "source": [
    "## 53\n",
    "### Given an integer array nums, find the\n",
    "subarray\n",
    "with the largest sum, and return its sum.\n",
    "\n"
   ]
  },
  {
   "attachments": {},
   "cell_type": "markdown",
   "metadata": {},
   "source": [
    "Input: nums = [-2,1,-3,4,-1,2,1,-5,4]\n",
    "\n",
    "Output: 6\n",
    "\n",
    "Explanation: The subarray [4,-1,2,1] has the largest sum 6.\n"
   ]
  },
  {
   "cell_type": "code",
   "execution_count": 34,
   "metadata": {},
   "outputs": [],
   "source": [
    "class Solution:\n",
    "    def maxSubArray(self, nums) -> int:\n",
    "        memoization = [(None,None) for i in range(len(nums))]\n",
    "        memoization[0] = nums[0] , nums[0]\n",
    "        n = len(nums)\n",
    "        for i in range(1,n):\n",
    "            max_sum , max_sum_with_last_elt = memoization[i-1]\n",
    "            if max_sum_with_last_elt > 0 :\n",
    "                max_sum_with_last_elt += nums[i]\n",
    "            else:\n",
    "                max_sum_with_last_elt = nums[i]\n",
    "            if max_sum_with_last_elt > max_sum : max_sum = max_sum_with_last_elt\n",
    "            memoization[i] = max_sum , max_sum_with_last_elt\n",
    "        return memoization[n-1][0]"
   ]
  },
  {
   "cell_type": "code",
   "execution_count": 36,
   "metadata": {},
   "outputs": [
    {
     "data": {
      "text/plain": [
       "6"
      ]
     },
     "execution_count": 36,
     "metadata": {},
     "output_type": "execute_result"
    }
   ],
   "source": [
    "sol = Solution()\n",
    "sol.maxSubArray(nums = [-2,1,-3,4,-1,2,1,-5,4])"
   ]
  },
  {
   "cell_type": "code",
   "execution_count": 23,
   "metadata": {},
   "outputs": [
    {
     "data": {
      "text/plain": [
       "[1, 2, 3, 4]"
      ]
     },
     "execution_count": 23,
     "metadata": {},
     "output_type": "execute_result"
    }
   ],
   "source": [
    "arr = [1,2,3,4,5]\n",
    "arr[:-1]"
   ]
  },
  {
   "attachments": {},
   "cell_type": "markdown",
   "metadata": {},
   "source": [
    "## 64. Minimum Path Sum\n",
    "Given a m x n grid filled with non-negative numbers, find a path from top left to bottom right, which minimizes the sum of all numbers along its path.\n",
    "\n",
    "Note: You can only move either down or right at any point in time.\n",
    "\n",
    "Input: grid = [[1,3,1],[1,5,1],[4,2,1]]\n",
    "\n",
    "Output: 7\n",
    "\n",
    "Explanation: Because the path 1 → 3 → 1 → 1 → 1 minimizes the sum.\n"
   ]
  },
  {
   "cell_type": "code",
   "execution_count": 10,
   "metadata": {},
   "outputs": [],
   "source": [
    "from typing import List\n",
    "class Solution:\n",
    "    def minPathSum(self, grid: List[List[int]]) -> int:\n",
    "        d = dict()\n",
    "        return self.aux_func(grid , d)\n",
    "    def aux_func(self,grid:list,d:dict) -> int:\n",
    "        m = len(grid)\n",
    "        n = len(grid[0])\n",
    "        #m*n\n",
    "        if m == 1 or n == 1:\n",
    "            d[(m,n)] = sum([grid[i][j] for i in range(m) for j in range(n)])\n",
    "            return d[(m,n)]\n",
    "        if (m,n) in d:\n",
    "            return d[(m,n)]\n",
    "        else:\n",
    "            d[(m,n)] = min(self.aux_func(grid[:m-1],d) , self.aux_func([row[:n-1] for row in grid],d)) + grid[m-1][n-1]\n",
    "            return d[(m,n)]\n",
    "        \n"
   ]
  },
  {
   "cell_type": "code",
   "execution_count": 12,
   "metadata": {},
   "outputs": [
    {
     "data": {
      "text/plain": [
       "7"
      ]
     },
     "execution_count": 12,
     "metadata": {},
     "output_type": "execute_result"
    }
   ],
   "source": [
    "grid = [[1,3,1],[1,5,1],[4,2,1]]\n",
    "sol = Solution()\n",
    "sol.minPathSum(grid)"
   ]
  },
  {
   "attachments": {},
   "cell_type": "markdown",
   "metadata": {},
   "source": [
    "## 174. Dungeon Game\n",
    "The demons had captured the princess and imprisoned her in the bottom-right corner of a dungeon. The dungeon consists of m x n rooms laid out in a 2D grid. Our valiant knight was initially positioned in the top-left room and must fight his way through dungeon to rescue the princess.\n",
    "\n",
    "The knight has an initial health point represented by a positive integer. If at any point his health point drops to 0 or below, he dies immediately.\n",
    "\n",
    "Some of the rooms are guarded by demons (represented by negative integers), so the knight loses health upon entering these rooms; other rooms are either empty (represented as 0) or contain magic orbs that increase the knight's health (represented by positive integers).\n",
    "\n",
    "To reach the princess as quickly as possible, the knight decides to move only rightward or downward in each step.\n",
    "\n",
    "Return the knight's minimum initial health so that he can rescue the princess.\n",
    "\n",
    "Note that any room can contain threats or power-ups, even the first room the knight enters and the bottom-right room where the princess is imprisoned.\n",
    "\n",
    "####\n",
    "\n",
    "\n",
    "Input: dungeon = [[-2,-3,3],[-5,-10,1],[10,30,-5]]\n",
    "\n",
    "Output: 7\n",
    "\n",
    "Explanation: The initial health of the knight must be at least 7 if he follows the optimal path: RIGHT-> RIGHT -> DOWN -> DOWN.\n"
   ]
  },
  {
   "cell_type": "code",
   "execution_count": null,
   "metadata": {},
   "outputs": [],
   "source": [
    "from typing import List\n",
    "class Solution:\n",
    "    def calculateMinimumHP(self, dungeon: List[List[int]]) -> int:\n",
    "        pass"
   ]
  }
 ],
 "metadata": {
  "kernelspec": {
   "display_name": "Python 3",
   "language": "python",
   "name": "python3"
  },
  "language_info": {
   "codemirror_mode": {
    "name": "ipython",
    "version": 3
   },
   "file_extension": ".py",
   "mimetype": "text/x-python",
   "name": "python",
   "nbconvert_exporter": "python",
   "pygments_lexer": "ipython3",
   "version": "3.9.13"
  },
  "orig_nbformat": 4,
  "vscode": {
   "interpreter": {
    "hash": "40d3a090f54c6569ab1632332b64b2c03c39dcf918b08424e98f38b5ae0af88f"
   }
  }
 },
 "nbformat": 4,
 "nbformat_minor": 2
}
